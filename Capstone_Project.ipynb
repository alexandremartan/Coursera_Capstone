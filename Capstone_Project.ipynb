{
 "cells": [
  {
   "cell_type": "markdown",
   "metadata": {},
   "source": [
    "<h1 align=\"center\"> Paris : a world cuisine capital ? </h1>"
   ]
  },
  {
   "cell_type": "markdown",
   "metadata": {},
   "source": [
    "<h3 align=\"center\">    Coursera Applied Data Science Capstone Project by IBM </h3>"
   ]
  },
  {
   "cell_type": "markdown",
   "metadata": {},
   "source": [
    "**Warning :**\n",
    "This is an in-progress project, therefore this notebook is going to evolve and could be different in the next days."
   ]
  },
  {
   "cell_type": "markdown",
   "metadata": {},
   "source": [
    "<h1>Table of contents</h1>\n",
    "\n",
    "<div class=\"alert alert-block alert-info\" style=\"margin-top: 20px\">\n",
    "    <ol>\n",
    "        <li><a href=\"#ref1\">Introduction</a></li>\n",
    "        <li><a href=\"#ref2\">Data</a></li>\n",
    "        <li><a href=\"#ref3\">...</a></li>\n",
    "    </ol>\n",
    "</div>\n",
    "\n",
    "----"
   ]
  },
  {
   "cell_type": "markdown",
   "metadata": {},
   "source": [
    "<a id=\"ref1\"></a>\n",
    "## 1. Introduction"
   ]
  },
  {
   "cell_type": "markdown",
   "metadata": {},
   "source": [
    "### Background\n",
    "Paris, capital of France, is a model for its culture and life habits. With all its museums and architecture landmarks, the city of Light offers plenty of strolls for everyone and everything, including the inescapable French specialty : the cuisine.  \n",
    "In fact, Paris is acclaimed for its restaurants and its gourmet cuisine, but also for its cafés and bakeries, scattering all around the city.  \n",
    "However, with today's influence of Paris metropolitan area (_Grand Paris_), counting more than seven millions inhabitants (INSEE, 2016, <a href='https://www.insee.fr/fr/statistiques/1405599?geo=EPCI-200054781'>link</a> in French), and receiving millions of tourists each year, Paris basically owns every national cuisine in the world.  \n",
    "With such cosmopolitan area, does one small village of indomitable French dishes still holds out against the invaders tastes ?\n"
   ]
  },
  {
   "cell_type": "markdown",
   "metadata": {},
   "source": [
    "### Problem\n",
    "\n",
    "The idea of this project is to segment the Parisian neighborhoods into major clusters depending on the origin of their cuisine.  \n",
    "This origin will be determined by the surrounding restaurants, thanks to an unsupervised machine learning algorithm, namely 'k-mean clustering', and leveraging the Foursquare location data.\n"
   ]
  },
  {
   "cell_type": "markdown",
   "metadata": {},
   "source": [
    "### Stakeholders\n",
    "\n",
    "The results of this analysis can benefit several actors :\n",
    " * City mappers and institutions : based on the proposed clusters, these actors would be able to visualize if minorities are concentrating their activities in specific neighborhoods thus proposing them adequate accommodations ;\n",
    " * Restaurant owners : knowing the main cuisine of each Parisian neighborhood, someone who wants to open a restaurant in Paris could determine in which area this restaurant could profit ;\n",
    " * Tourists and residents : thanks to this clustering, choosing a place to eat will become easier as long as you know what kind of food you want, then just wander around the beautiful streets of a specialized area and pick the restaurant you're interested in !"
   ]
  },
  {
   "cell_type": "markdown",
   "metadata": {},
   "source": [
    "<a id=\"ref2\"></a>\n",
    "## 2. Data"
   ]
  },
  {
   "cell_type": "markdown",
   "metadata": {},
   "source": [
    "To answer our problem, we will use the following data :"
   ]
  },
  {
   "cell_type": "markdown",
   "metadata": {},
   "source": [
    "### Paris Data\n",
    "\n",
    "Link : <a href = https://opendata.paris.fr/explore/embed/dataset/quartier_paris/table/>https://opendata.paris.fr/explore/embed/dataset/quartier_paris/table/</a>  \n",
    "Licence : <a href=http://opendatacommons.org/licenses/odbl/ >Open Database License (ODbL)</a>\n",
    "\n",
    "This official dataset provides all the administrative districts of Paris with their surfaces, their localizations and their shapes. \n",
    "These administrative districts consists in a subdivision of the main boroughs (_\"Arrondissements\"_) into four parts. Therefore this dataset proposes 80 neighborhoods."
   ]
  },
  {
   "cell_type": "markdown",
   "metadata": {},
   "source": [
    "<img src=\"IMG1_Map_Paris.JPG\">"
   ]
  },
  {
   "cell_type": "markdown",
   "metadata": {},
   "source": [
    "### Foursquare Places API\n",
    "\n",
    "Link : <a href=https://developer.foursquare.com/docs>https://developer.foursquare.com/docs</a>\n",
    "\n",
    "Foursquare API is a location data provider based on REST API. Given a specific localization, Foursquare API will retrieve all the nearby venues with their categories, such as restaurant or museums.  \n",
    "The most interesting benefits of this API is the hierarchy in their categories : as we will focus on restaurant, Foursquare already know the subdivision of this broad category. A list of this hierarchy can be found <a href=https://developer.foursquare.com/docs/resources/categories>here</a>.  \n",
    "\n",
    "For each query, Foursquare API returns a JSON file where the categories looks like this one (<a href=https://developer.foursquare.com/docs/api/venues/search>official example</a> from Foursquare):\n",
    "\n",
    "<div style=\"background-color:#f2f3f4 \">\"categories\": [\n",
    "<ul style=\"list-style:none;\">\n",
    "      <li>    {  </li>\n",
    "      <ul style=\"list-style:none;\">\n",
    "          <li>       \"id\": \"4bf58dd8d48988d1d5941735\",  </li>\n",
    "          <li>       \"name\": \"Hotel Bar\",  </li>\n",
    "          <li>       \"pluralName\": \"Hotel Bars\",  </<li>\n",
    "          <li>       \"shortName\": \"Hotel Bar\",  </li>\n",
    "          <li>       \"icon\": {  </li>\n",
    "          <li>         \"prefix\": \"https://ss3.4sqi.net/img/categories_v2/travel/hotel_bar_\",  </li>\n",
    "          <li>         \"suffix\": \".png\"  </li>\n",
    "    </ul>\n",
    "      <li>       },  </li>\n",
    "      <li>       \"primary\": true </li>\n",
    "</ul></div>"
   ]
  },
  {
   "cell_type": "code",
   "execution_count": null,
   "metadata": {},
   "outputs": [],
   "source": []
  }
 ],
 "metadata": {
  "kernelspec": {
   "display_name": "Python",
   "language": "python",
   "name": "conda-env-python-py"
  },
  "language_info": {
   "codemirror_mode": {
    "name": "ipython",
    "version": 3
   },
   "file_extension": ".py",
   "mimetype": "text/x-python",
   "name": "python",
   "nbconvert_exporter": "python",
   "pygments_lexer": "ipython3",
   "version": "3.6.7"
  }
 },
 "nbformat": 4,
 "nbformat_minor": 4
}
